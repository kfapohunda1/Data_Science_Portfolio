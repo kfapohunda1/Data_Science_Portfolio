{
  "nbformat": 4,
  "nbformat_minor": 0,
  "metadata": {
    "colab": {
      "name": "2006 Pike's Peak 10K Race.ipynb",
      "provenance": [],
      "collapsed_sections": [],
      "mount_file_id": "1bEhMJuoyoT0Pg5jqN6VmPoKffThwvBt1",
      "authorship_tag": "ABX9TyMvUtQVQYj5lmDa6kYnU0VT",
      "include_colab_link": true
    },
    "kernelspec": {
      "name": "python3",
      "display_name": "Python 3"
    },
    "language_info": {
      "name": "python"
    }
  },
  "cells": [
    {
      "cell_type": "markdown",
      "metadata": {
        "id": "view-in-github",
        "colab_type": "text"
      },
      "source": [
        "<a href=\"https://colab.research.google.com/github/kfapohunda1/Projects-and-fundamentals/blob/main/2006_Pike's_Peak_10K_Race.ipynb\" target=\"_parent\"><img src=\"https://colab.research.google.com/assets/colab-badge.svg\" alt=\"Open In Colab\"/></a>"
      ]
    },
    {
      "cell_type": "code",
      "metadata": {
        "colab": {
          "base_uri": "https://localhost:8080/"
        },
        "id": "7NdRf-fSoPUG",
        "outputId": "de5006eb-1898-43c7-b730-d32e98fe567d"
      },
      "source": [
        "import numpy as np  # useful for many scientific computing in Python\n",
        "import pandas as pd # primary data structure library\n",
        "import seaborn as sns\n",
        "import matplotlib.pyplot as plt\n",
        "%matplotlib inline\n",
        "\n",
        "import matplotlib as mpl\n",
        "import matplotlib.pyplot as plt\n",
        "mpl.style.use('ggplot') # optional: for ggplot-like style\n",
        "# check for latest version of Matplotlib\n",
        "print('Matplotlib version: ', mpl.__version__) # >= 2.0.0"
      ],
      "execution_count": 195,
      "outputs": [
        {
          "output_type": "stream",
          "text": [
            "Matplotlib version:  3.2.2\n"
          ],
          "name": "stdout"
        }
      ]
    },
    {
      "cell_type": "markdown",
      "metadata": {
        "id": "p9IM2QZJz9yX"
      },
      "source": [
        "LOAD AND READ DATA "
      ]
    },
    {
      "cell_type": "code",
      "metadata": {
        "id": "rvbPeozbj7tP"
      },
      "source": [
        "# Open and read files into pandas \n",
        "\n",
        "df_m= pd.read_pickle('maleracers.txt')\n",
        "df_f= pd.read_pickle('femaleracers.txt')\n",
        "df_fm=pd.read_pickle('totalracers.txt')"
      ],
      "execution_count": 196,
      "outputs": []
    },
    {
      "cell_type": "code",
      "metadata": {
        "colab": {
          "base_uri": "https://localhost:8080/"
        },
        "id": "LGwqnyCDA44L",
        "outputId": "11821cd6-3412-4d8d-a7db-b3b334980918"
      },
      "source": [
        "df_m.shape"
      ],
      "execution_count": 197,
      "outputs": [
        {
          "output_type": "execute_result",
          "data": {
            "text/plain": [
              "(1261, 18)"
            ]
          },
          "metadata": {
            "tags": []
          },
          "execution_count": 197
        }
      ]
    },
    {
      "cell_type": "markdown",
      "metadata": {
        "id": "IUrC67sY0qYX"
      },
      "source": [
        "PROCESSING AND EXPLORING DATA"
      ]
    },
    {
      "cell_type": "code",
      "metadata": {
        "colab": {
          "base_uri": "https://localhost:8080/"
        },
        "id": "yimqtfMp1YMc",
        "outputId": "a95eaf64-b580-47ce-f4dd-d59c34774320"
      },
      "source": [
        "print(df_fm.shape)"
      ],
      "execution_count": 142,
      "outputs": [
        {
          "output_type": "stream",
          "text": [
            "(2362, 18)\n"
          ],
          "name": "stdout"
        }
      ]
    },
    {
      "cell_type": "code",
      "metadata": {
        "colab": {
          "base_uri": "https://localhost:8080/"
        },
        "id": "2Ti-rXzqIJwp",
        "outputId": "cdddb8b0-face-4ae1-b090-5b1f67732b4a"
      },
      "source": [
        "df_fm.isnull().sum(),df_f.isnull().sum()\n"
      ],
      "execution_count": 198,
      "outputs": [
        {
          "output_type": "execute_result",
          "data": {
            "text/plain": [
              "(Place           0\n",
              " Div/Tot         0\n",
              " Number          0\n",
              " Name            0\n",
              " Age             0\n",
              " Hometown        0\n",
              " Gun Tim         0\n",
              " Net Tim         0\n",
              " Pace            0\n",
              " Division        0\n",
              " Gun_Time        0\n",
              " Net_Time        0\n",
              " Net_Time1       0\n",
              " Gun_Time1       0\n",
              " Gun_Net_Diff    0\n",
              " Div             0\n",
              " Total_Racers    0\n",
              " Gender          0\n",
              " dtype: int64, Place           0\n",
              " Div/Tot         0\n",
              " Number          0\n",
              " Name            0\n",
              " Age             0\n",
              " Hometown        0\n",
              " Gun Tim         0\n",
              " Net Tim         0\n",
              " Pace            0\n",
              " Division        0\n",
              " Gun_Time        0\n",
              " Net_Time        0\n",
              " Net_Time1       0\n",
              " Gun_Time1       0\n",
              " Gun_Net_Diff    0\n",
              " Div             0\n",
              " Total_Racers    0\n",
              " Gender          0\n",
              " dtype: int64)"
            ]
          },
          "metadata": {
            "tags": []
          },
          "execution_count": 198
        }
      ]
    },
    {
      "cell_type": "code",
      "metadata": {
        "colab": {
          "base_uri": "https://localhost:8080/"
        },
        "id": "LynjuBAIIUao",
        "outputId": "b925c5f7-8637-4d3b-bdcf-e23bf4e5bf78"
      },
      "source": [
        "df_f.dropna(axis=0, inplace=True)\n",
        "\n",
        "df_m.dropna(axis=0, inplace=True)\n",
        "\n",
        "df_f.Age.value_counts().sort_index().head()\n",
        "\n",
        "df_m.Age.value_counts().sort_index().head()"
      ],
      "execution_count": 200,
      "outputs": [
        {
          "output_type": "execute_result",
          "data": {
            "text/plain": [
              "9.0      1\n",
              "10.0     1\n",
              "11.0     1\n",
              "12.0     6\n",
              "13.0    10\n",
              "Name: Age, dtype: int64"
            ]
          },
          "metadata": {
            "tags": []
          },
          "execution_count": 200
        }
      ]
    },
    {
      "cell_type": "code",
      "metadata": {
        "colab": {
          "base_uri": "https://localhost:8080/",
          "height": 417
        },
        "id": "jyDya8xojz9q",
        "outputId": "c727b751-a7f1-4ccb-c596-9ff38b239756"
      },
      "source": [
        "df_fm.head()"
      ],
      "execution_count": 135,
      "outputs": [
        {
          "output_type": "execute_result",
          "data": {
            "text/html": [
              "<div>\n",
              "<style scoped>\n",
              "    .dataframe tbody tr th:only-of-type {\n",
              "        vertical-align: middle;\n",
              "    }\n",
              "\n",
              "    .dataframe tbody tr th {\n",
              "        vertical-align: top;\n",
              "    }\n",
              "\n",
              "    .dataframe thead th {\n",
              "        text-align: right;\n",
              "    }\n",
              "</style>\n",
              "<table border=\"1\" class=\"dataframe\">\n",
              "  <thead>\n",
              "    <tr style=\"text-align: right;\">\n",
              "      <th></th>\n",
              "      <th>Place</th>\n",
              "      <th>Div/Tot</th>\n",
              "      <th>Number</th>\n",
              "      <th>Name</th>\n",
              "      <th>Age</th>\n",
              "      <th>Hometown</th>\n",
              "      <th>Gun Tim</th>\n",
              "      <th>Net Tim</th>\n",
              "      <th>Pace</th>\n",
              "      <th>Division</th>\n",
              "      <th>Gun_Time</th>\n",
              "      <th>Net_Time</th>\n",
              "      <th>Net_Time1</th>\n",
              "      <th>Gun_Time1</th>\n",
              "      <th>Gun_Net_Diff</th>\n",
              "      <th>Div</th>\n",
              "      <th>Total_Racers</th>\n",
              "      <th>Gender</th>\n",
              "    </tr>\n",
              "  </thead>\n",
              "  <tbody>\n",
              "    <tr>\n",
              "      <th>0</th>\n",
              "      <td>1</td>\n",
              "      <td>1/48</td>\n",
              "      <td>9</td>\n",
              "      <td>Joshua Kemei</td>\n",
              "      <td>22.0</td>\n",
              "      <td>Kenya .</td>\n",
              "      <td>28:48</td>\n",
              "      <td>28:47</td>\n",
              "      <td>4.38</td>\n",
              "      <td>20-29</td>\n",
              "      <td>0:28:48</td>\n",
              "      <td>0:28:47</td>\n",
              "      <td>1900-01-01 00:28:47</td>\n",
              "      <td>1900-01-01 00:28:48</td>\n",
              "      <td>0 days 00:00:01</td>\n",
              "      <td>1</td>\n",
              "      <td>48</td>\n",
              "      <td>male</td>\n",
              "    </tr>\n",
              "    <tr>\n",
              "      <th>1</th>\n",
              "      <td>2</td>\n",
              "      <td>2/48</td>\n",
              "      <td>35</td>\n",
              "      <td>George Kirwa Misoi</td>\n",
              "      <td>22.0</td>\n",
              "      <td>Kenya .</td>\n",
              "      <td>29:11</td>\n",
              "      <td>29:10</td>\n",
              "      <td>4.42</td>\n",
              "      <td>20-29</td>\n",
              "      <td>0:29:11</td>\n",
              "      <td>0:29:10</td>\n",
              "      <td>1900-01-01 00:29:10</td>\n",
              "      <td>1900-01-01 00:29:11</td>\n",
              "      <td>0 days 00:00:01</td>\n",
              "      <td>2</td>\n",
              "      <td>48</td>\n",
              "      <td>male</td>\n",
              "    </tr>\n",
              "    <tr>\n",
              "      <th>2</th>\n",
              "      <td>3</td>\n",
              "      <td>3/48</td>\n",
              "      <td>3</td>\n",
              "      <td>Jacob Frey</td>\n",
              "      <td>24.0</td>\n",
              "      <td>Oakton VA</td>\n",
              "      <td>29:38</td>\n",
              "      <td>29:37</td>\n",
              "      <td>4.46</td>\n",
              "      <td>20-29</td>\n",
              "      <td>0:29:38</td>\n",
              "      <td>0:29:37</td>\n",
              "      <td>1900-01-01 00:29:37</td>\n",
              "      <td>1900-01-01 00:29:38</td>\n",
              "      <td>0 days 00:00:01</td>\n",
              "      <td>3</td>\n",
              "      <td>48</td>\n",
              "      <td>male</td>\n",
              "    </tr>\n",
              "    <tr>\n",
              "      <th>3</th>\n",
              "      <td>4</td>\n",
              "      <td>1/96</td>\n",
              "      <td>49</td>\n",
              "      <td>Gurmessa Kumsa</td>\n",
              "      <td>27.0</td>\n",
              "      <td>Oxon Hill MD</td>\n",
              "      <td>29:46</td>\n",
              "      <td>29:46</td>\n",
              "      <td>4.48</td>\n",
              "      <td>20-29</td>\n",
              "      <td>0:29:46</td>\n",
              "      <td>0:29:46</td>\n",
              "      <td>1900-01-01 00:29:46</td>\n",
              "      <td>1900-01-01 00:29:46</td>\n",
              "      <td>0 days 00:00:00</td>\n",
              "      <td>1</td>\n",
              "      <td>96</td>\n",
              "      <td>male</td>\n",
              "    </tr>\n",
              "    <tr>\n",
              "      <th>4</th>\n",
              "      <td>5</td>\n",
              "      <td>4/48</td>\n",
              "      <td>31</td>\n",
              "      <td>Mike Baird</td>\n",
              "      <td>24.0</td>\n",
              "      <td>Ardmore PA</td>\n",
              "      <td>30:31</td>\n",
              "      <td>30:30</td>\n",
              "      <td>4.55</td>\n",
              "      <td>20-29</td>\n",
              "      <td>0:30:31</td>\n",
              "      <td>0:30:30</td>\n",
              "      <td>1900-01-01 00:30:30</td>\n",
              "      <td>1900-01-01 00:30:31</td>\n",
              "      <td>0 days 00:00:01</td>\n",
              "      <td>4</td>\n",
              "      <td>48</td>\n",
              "      <td>male</td>\n",
              "    </tr>\n",
              "  </tbody>\n",
              "</table>\n",
              "</div>"
            ],
            "text/plain": [
              "  Place Div/Tot Number  ... Div  Total_Racers Gender\n",
              "0     1    1/48      9  ...   1            48   male\n",
              "1     2    2/48     35  ...   2            48   male\n",
              "2     3    3/48      3  ...   3            48   male\n",
              "3     4    1/96     49  ...   1            96   male\n",
              "4     5    4/48     31  ...   4            48   male\n",
              "\n",
              "[5 rows x 18 columns]"
            ]
          },
          "metadata": {
            "tags": []
          },
          "execution_count": 135
        }
      ]
    },
    {
      "cell_type": "code",
      "metadata": {
        "id": "Wd3NvJWOITaR"
      },
      "source": [
        ""
      ],
      "execution_count": null,
      "outputs": []
    },
    {
      "cell_type": "code",
      "metadata": {
        "colab": {
          "base_uri": "https://localhost:8080/"
        },
        "id": "jyeOjyNokG19",
        "outputId": "29a976e7-b011-4b00-812e-ccdfcbfa2ecc"
      },
      "source": [
        "df_fm.dtypes"
      ],
      "execution_count": 68,
      "outputs": [
        {
          "output_type": "execute_result",
          "data": {
            "text/plain": [
              "Place                    object\n",
              "Div/Tot                  object\n",
              "Number                   object\n",
              "Name                     object\n",
              "Age                     float64\n",
              "Hometown                 object\n",
              "Gun Tim                  object\n",
              "Net Tim                  object\n",
              "Pace                    float64\n",
              "Division                 object\n",
              "Gun_Time                 object\n",
              "Net_Time                 object\n",
              "Net_Time1        datetime64[ns]\n",
              "Gun_Time1        datetime64[ns]\n",
              "Gun_Net_Diff    timedelta64[ns]\n",
              "Div                      object\n",
              "Total_Racers              int64\n",
              "Gender                   object\n",
              "dtype: object"
            ]
          },
          "metadata": {
            "tags": []
          },
          "execution_count": 68
        }
      ]
    },
    {
      "cell_type": "code",
      "metadata": {
        "colab": {
          "base_uri": "https://localhost:8080/",
          "height": 1000
        },
        "id": "X-yOaXo7Xyna",
        "outputId": "0782df26-bac4-4557-a14e-ae71526b7e81"
      },
      "source": [
        "# Define Gun time and Net time\n",
        "df_time = df_total[['Place','Number','Name','Age','Hometown','Pace','Net_Time1', 'Gun_Time1',\n",
        "       'Gun_Net_Diff', 'Division','Gender']]\n",
        "#Create time variables \n",
        "df_time['g_hour'] = df_time['Gun_Time1'].dt.hour\n",
        "df_time['g_minute'] = df_time['Gun_Time1'].dt.minute\n",
        "df_time['g_second'] = df_time['Gun_Time1'].dt.second\n",
        "\n",
        "df_time['n_hour'] = df_time['Net_Time1'].dt.hour\n",
        "df_time['n_minute'] = df_time['Net_Time1'].dt.minute\n",
        "df_time['n_second'] = df_time['Net_Time1'].dt.second\n",
        "\n"
      ],
      "execution_count": 72,
      "outputs": [
        {
          "output_type": "stream",
          "text": [
            "/usr/local/lib/python3.7/dist-packages/ipykernel_launcher.py:5: SettingWithCopyWarning: \n",
            "A value is trying to be set on a copy of a slice from a DataFrame.\n",
            "Try using .loc[row_indexer,col_indexer] = value instead\n",
            "\n",
            "See the caveats in the documentation: https://pandas.pydata.org/pandas-docs/stable/user_guide/indexing.html#returning-a-view-versus-a-copy\n",
            "  \"\"\"\n",
            "/usr/local/lib/python3.7/dist-packages/ipykernel_launcher.py:6: SettingWithCopyWarning: \n",
            "A value is trying to be set on a copy of a slice from a DataFrame.\n",
            "Try using .loc[row_indexer,col_indexer] = value instead\n",
            "\n",
            "See the caveats in the documentation: https://pandas.pydata.org/pandas-docs/stable/user_guide/indexing.html#returning-a-view-versus-a-copy\n",
            "  \n",
            "/usr/local/lib/python3.7/dist-packages/ipykernel_launcher.py:7: SettingWithCopyWarning: \n",
            "A value is trying to be set on a copy of a slice from a DataFrame.\n",
            "Try using .loc[row_indexer,col_indexer] = value instead\n",
            "\n",
            "See the caveats in the documentation: https://pandas.pydata.org/pandas-docs/stable/user_guide/indexing.html#returning-a-view-versus-a-copy\n",
            "  import sys\n",
            "/usr/local/lib/python3.7/dist-packages/ipykernel_launcher.py:9: SettingWithCopyWarning: \n",
            "A value is trying to be set on a copy of a slice from a DataFrame.\n",
            "Try using .loc[row_indexer,col_indexer] = value instead\n",
            "\n",
            "See the caveats in the documentation: https://pandas.pydata.org/pandas-docs/stable/user_guide/indexing.html#returning-a-view-versus-a-copy\n",
            "  if __name__ == '__main__':\n",
            "/usr/local/lib/python3.7/dist-packages/ipykernel_launcher.py:10: SettingWithCopyWarning: \n",
            "A value is trying to be set on a copy of a slice from a DataFrame.\n",
            "Try using .loc[row_indexer,col_indexer] = value instead\n",
            "\n",
            "See the caveats in the documentation: https://pandas.pydata.org/pandas-docs/stable/user_guide/indexing.html#returning-a-view-versus-a-copy\n",
            "  # Remove the CWD from sys.path while we load stuff.\n",
            "/usr/local/lib/python3.7/dist-packages/ipykernel_launcher.py:11: SettingWithCopyWarning: \n",
            "A value is trying to be set on a copy of a slice from a DataFrame.\n",
            "Try using .loc[row_indexer,col_indexer] = value instead\n",
            "\n",
            "See the caveats in the documentation: https://pandas.pydata.org/pandas-docs/stable/user_guide/indexing.html#returning-a-view-versus-a-copy\n",
            "  # This is added back by InteractiveShellApp.init_path()\n"
          ],
          "name": "stderr"
        },
        {
          "output_type": "execute_result",
          "data": {
            "text/html": [
              "<div>\n",
              "<style scoped>\n",
              "    .dataframe tbody tr th:only-of-type {\n",
              "        vertical-align: middle;\n",
              "    }\n",
              "\n",
              "    .dataframe tbody tr th {\n",
              "        vertical-align: top;\n",
              "    }\n",
              "\n",
              "    .dataframe thead th {\n",
              "        text-align: right;\n",
              "    }\n",
              "</style>\n",
              "<table border=\"1\" class=\"dataframe\">\n",
              "  <thead>\n",
              "    <tr style=\"text-align: right;\">\n",
              "      <th></th>\n",
              "      <th>Place</th>\n",
              "      <th>Number</th>\n",
              "      <th>Name</th>\n",
              "      <th>Age</th>\n",
              "      <th>Hometown</th>\n",
              "      <th>Pace</th>\n",
              "      <th>Net_Time1</th>\n",
              "      <th>Gun_Time1</th>\n",
              "      <th>Gun_Net_Diff</th>\n",
              "      <th>Division</th>\n",
              "      <th>Gender</th>\n",
              "      <th>g_hour</th>\n",
              "      <th>g_minute</th>\n",
              "      <th>g_second</th>\n",
              "      <th>n_hour</th>\n",
              "      <th>n_minute</th>\n",
              "      <th>n_second</th>\n",
              "    </tr>\n",
              "  </thead>\n",
              "  <tbody>\n",
              "    <tr>\n",
              "      <th>414</th>\n",
              "      <td>415</td>\n",
              "      <td>2987</td>\n",
              "      <td>Eric Delgado</td>\n",
              "      <td>29.0</td>\n",
              "      <td>Wheaton MD</td>\n",
              "      <td>7.40</td>\n",
              "      <td>1900-01-01 00:47:35</td>\n",
              "      <td>1900-01-01 00:48:56</td>\n",
              "      <td>0 days 00:01:21</td>\n",
              "      <td>20-29</td>\n",
              "      <td>male</td>\n",
              "      <td>0</td>\n",
              "      <td>48</td>\n",
              "      <td>56</td>\n",
              "      <td>0</td>\n",
              "      <td>47</td>\n",
              "      <td>35</td>\n",
              "    </tr>\n",
              "    <tr>\n",
              "      <th>799</th>\n",
              "      <td>800</td>\n",
              "      <td>2414</td>\n",
              "      <td>Matt Seubert</td>\n",
              "      <td>36.0</td>\n",
              "      <td>Germantown MD</td>\n",
              "      <td>8.45</td>\n",
              "      <td>1900-01-01 00:54:22</td>\n",
              "      <td>1900-01-01 00:59:43</td>\n",
              "      <td>0 days 00:05:21</td>\n",
              "      <td>30-39</td>\n",
              "      <td>male</td>\n",
              "      <td>0</td>\n",
              "      <td>59</td>\n",
              "      <td>43</td>\n",
              "      <td>0</td>\n",
              "      <td>54</td>\n",
              "      <td>22</td>\n",
              "    </tr>\n",
              "    <tr>\n",
              "      <th>44</th>\n",
              "      <td>625</td>\n",
              "      <td>581</td>\n",
              "      <td>Melinda Berge</td>\n",
              "      <td>61.0</td>\n",
              "      <td>Annapolis MD</td>\n",
              "      <td>9.30</td>\n",
              "      <td>1900-01-01 00:59:00</td>\n",
              "      <td>1900-01-01 01:00:02</td>\n",
              "      <td>0 days 00:01:02</td>\n",
              "      <td>60-69</td>\n",
              "      <td>female</td>\n",
              "      <td>1</td>\n",
              "      <td>0</td>\n",
              "      <td>2</td>\n",
              "      <td>0</td>\n",
              "      <td>59</td>\n",
              "      <td>0</td>\n",
              "    </tr>\n",
              "    <tr>\n",
              "      <th>713</th>\n",
              "      <td>106</td>\n",
              "      <td>2528</td>\n",
              "      <td>Susan Spicer</td>\n",
              "      <td>43.0</td>\n",
              "      <td>Rockville MD</td>\n",
              "      <td>7.33</td>\n",
              "      <td>1900-01-01 00:46:50</td>\n",
              "      <td>1900-01-01 00:48:10</td>\n",
              "      <td>0 days 00:01:20</td>\n",
              "      <td>40-49</td>\n",
              "      <td>female</td>\n",
              "      <td>0</td>\n",
              "      <td>48</td>\n",
              "      <td>10</td>\n",
              "      <td>0</td>\n",
              "      <td>46</td>\n",
              "      <td>50</td>\n",
              "    </tr>\n",
              "    <tr>\n",
              "      <th>658</th>\n",
              "      <td>659</td>\n",
              "      <td>2583</td>\n",
              "      <td>Doug Sullivan</td>\n",
              "      <td>44.0</td>\n",
              "      <td>Clarksville MD</td>\n",
              "      <td>8.20</td>\n",
              "      <td>1900-01-01 00:51:42</td>\n",
              "      <td>1900-01-01 00:55:18</td>\n",
              "      <td>0 days 00:03:36</td>\n",
              "      <td>40-49</td>\n",
              "      <td>male</td>\n",
              "      <td>0</td>\n",
              "      <td>55</td>\n",
              "      <td>18</td>\n",
              "      <td>0</td>\n",
              "      <td>51</td>\n",
              "      <td>42</td>\n",
              "    </tr>\n",
              "  </tbody>\n",
              "</table>\n",
              "</div>"
            ],
            "text/plain": [
              "    Place Number           Name   Age  ... g_second  n_hour n_minute n_second\n",
              "414   415   2987   Eric Delgado  29.0  ...       56       0       47       35\n",
              "799   800   2414   Matt Seubert  36.0  ...       43       0       54       22\n",
              "44    625    581  Melinda Berge  61.0  ...        2       0       59        0\n",
              "713   106   2528   Susan Spicer  43.0  ...       10       0       46       50\n",
              "658   659   2583  Doug Sullivan  44.0  ...       18       0       51       42\n",
              "\n",
              "[5 rows x 17 columns]"
            ]
          },
          "metadata": {
            "tags": []
          },
          "execution_count": 72
        }
      ]
    },
    {
      "cell_type": "code",
      "metadata": {
        "id": "Mv9CIm9JmApe"
      },
      "source": [
        "# Calculate time for hours, minutes and seconds\n",
        "df_time['g_total_time'] = round(((df_time['g_hour']*60)+df_time['g_minute']+(df_time['g_second']/60)),2)\n",
        "df_time['n_total_time'] = round(((df_time['n_hour']*60)+df_time['n_minute']+(df_time['n_second']/60)),2)"
      ],
      "execution_count": 81,
      "outputs": []
    },
    {
      "cell_type": "markdown",
      "metadata": {
        "id": "l47Wn7yE1fFK"
      },
      "source": [
        "QUESTION 1: What are the mean, median, mode, and\n",
        "range of the race results for all racers by\n",
        "gender?"
      ]
    },
    {
      "cell_type": "code",
      "metadata": {
        "colab": {
          "base_uri": "https://localhost:8080/",
          "height": 372
        },
        "id": "chp-28WO15L5",
        "outputId": "8e7b02f7-be96-4c6d-ec20-0fa0a895ab83"
      },
      "source": [
        "# 1. Finding the mean, median, mode and range \n",
        "\n",
        "df_time.describe()"
      ],
      "execution_count": 82,
      "outputs": [
        {
          "output_type": "execute_result",
          "data": {
            "text/html": [
              "<div>\n",
              "<style scoped>\n",
              "    .dataframe tbody tr th:only-of-type {\n",
              "        vertical-align: middle;\n",
              "    }\n",
              "\n",
              "    .dataframe tbody tr th {\n",
              "        vertical-align: top;\n",
              "    }\n",
              "\n",
              "    .dataframe thead th {\n",
              "        text-align: right;\n",
              "    }\n",
              "</style>\n",
              "<table border=\"1\" class=\"dataframe\">\n",
              "  <thead>\n",
              "    <tr style=\"text-align: right;\">\n",
              "      <th></th>\n",
              "      <th>Age</th>\n",
              "      <th>Pace</th>\n",
              "      <th>Gun_Net_Diff</th>\n",
              "      <th>g_hour</th>\n",
              "      <th>g_minute</th>\n",
              "      <th>g_second</th>\n",
              "      <th>n_hour</th>\n",
              "      <th>n_minute</th>\n",
              "      <th>n_second</th>\n",
              "      <th>g_total_time</th>\n",
              "      <th>n_total_time</th>\n",
              "    </tr>\n",
              "  </thead>\n",
              "  <tbody>\n",
              "    <tr>\n",
              "      <th>count</th>\n",
              "      <td>2362.000000</td>\n",
              "      <td>2362.00000</td>\n",
              "      <td>2362</td>\n",
              "      <td>2362.000000</td>\n",
              "      <td>2362.000000</td>\n",
              "      <td>2362.000000</td>\n",
              "      <td>2362.000000</td>\n",
              "      <td>2362.000000</td>\n",
              "      <td>2362.000000</td>\n",
              "      <td>2362.000000</td>\n",
              "      <td>2362.000000</td>\n",
              "    </tr>\n",
              "    <tr>\n",
              "      <th>mean</th>\n",
              "      <td>39.040644</td>\n",
              "      <td>8.66876</td>\n",
              "      <td>0 days 00:02:50.948348856</td>\n",
              "      <td>0.411939</td>\n",
              "      <td>32.703641</td>\n",
              "      <td>29.848857</td>\n",
              "      <td>0.256139</td>\n",
              "      <td>39.200677</td>\n",
              "      <td>29.958933</td>\n",
              "      <td>57.917472</td>\n",
              "      <td>55.068370</td>\n",
              "    </tr>\n",
              "    <tr>\n",
              "      <th>std</th>\n",
              "      <td>11.578692</td>\n",
              "      <td>1.65269</td>\n",
              "      <td>0 days 00:01:34.957440919</td>\n",
              "      <td>0.492288</td>\n",
              "      <td>22.033210</td>\n",
              "      <td>17.398669</td>\n",
              "      <td>0.436592</td>\n",
              "      <td>19.785560</td>\n",
              "      <td>17.427663</td>\n",
              "      <td>11.420600</td>\n",
              "      <td>10.281547</td>\n",
              "    </tr>\n",
              "    <tr>\n",
              "      <th>min</th>\n",
              "      <td>1.000000</td>\n",
              "      <td>4.38000</td>\n",
              "      <td>0 days 00:00:00</td>\n",
              "      <td>0.000000</td>\n",
              "      <td>0.000000</td>\n",
              "      <td>0.000000</td>\n",
              "      <td>0.000000</td>\n",
              "      <td>0.000000</td>\n",
              "      <td>0.000000</td>\n",
              "      <td>28.800000</td>\n",
              "      <td>28.780000</td>\n",
              "    </tr>\n",
              "    <tr>\n",
              "      <th>25%</th>\n",
              "      <td>31.000000</td>\n",
              "      <td>7.47000</td>\n",
              "      <td>0 days 00:01:16</td>\n",
              "      <td>0.000000</td>\n",
              "      <td>8.000000</td>\n",
              "      <td>15.000000</td>\n",
              "      <td>0.000000</td>\n",
              "      <td>30.250000</td>\n",
              "      <td>16.000000</td>\n",
              "      <td>50.255000</td>\n",
              "      <td>48.290000</td>\n",
              "    </tr>\n",
              "    <tr>\n",
              "      <th>50%</th>\n",
              "      <td>39.000000</td>\n",
              "      <td>8.45500</td>\n",
              "      <td>0 days 00:03:16</td>\n",
              "      <td>0.000000</td>\n",
              "      <td>43.000000</td>\n",
              "      <td>31.000000</td>\n",
              "      <td>0.000000</td>\n",
              "      <td>48.000000</td>\n",
              "      <td>30.000000</td>\n",
              "      <td>57.665000</td>\n",
              "      <td>54.375000</td>\n",
              "    </tr>\n",
              "    <tr>\n",
              "      <th>75%</th>\n",
              "      <td>46.000000</td>\n",
              "      <td>9.41000</td>\n",
              "      <td>0 days 00:03:49.750000</td>\n",
              "      <td>1.000000</td>\n",
              "      <td>53.000000</td>\n",
              "      <td>45.000000</td>\n",
              "      <td>1.000000</td>\n",
              "      <td>54.000000</td>\n",
              "      <td>44.750000</td>\n",
              "      <td>64.020000</td>\n",
              "      <td>60.165000</td>\n",
              "    </tr>\n",
              "    <tr>\n",
              "      <th>max</th>\n",
              "      <td>84.000000</td>\n",
              "      <td>17.12000</td>\n",
              "      <td>0 days 00:09:20</td>\n",
              "      <td>1.000000</td>\n",
              "      <td>59.000000</td>\n",
              "      <td>59.000000</td>\n",
              "      <td>1.000000</td>\n",
              "      <td>59.000000</td>\n",
              "      <td>59.000000</td>\n",
              "      <td>110.520000</td>\n",
              "      <td>106.820000</td>\n",
              "    </tr>\n",
              "  </tbody>\n",
              "</table>\n",
              "</div>"
            ],
            "text/plain": [
              "               Age        Pace  ... g_total_time  n_total_time\n",
              "count  2362.000000  2362.00000  ...  2362.000000   2362.000000\n",
              "mean     39.040644     8.66876  ...    57.917472     55.068370\n",
              "std      11.578692     1.65269  ...    11.420600     10.281547\n",
              "min       1.000000     4.38000  ...    28.800000     28.780000\n",
              "25%      31.000000     7.47000  ...    50.255000     48.290000\n",
              "50%      39.000000     8.45500  ...    57.665000     54.375000\n",
              "75%      46.000000     9.41000  ...    64.020000     60.165000\n",
              "max      84.000000    17.12000  ...   110.520000    106.820000\n",
              "\n",
              "[8 rows x 11 columns]"
            ]
          },
          "metadata": {
            "tags": []
          },
          "execution_count": 82
        }
      ]
    },
    {
      "cell_type": "code",
      "metadata": {
        "colab": {
          "base_uri": "https://localhost:8080/",
          "height": 334
        },
        "id": "O-BluknA6jom",
        "outputId": "c9e83be7-3920-41be-c579-a70ab3863966"
      },
      "source": [
        "# Box plot of female vs. Male racers (Gun Time)\n",
        "ax = plt.axes()\n",
        "plot1 = sns.boxplot(data=df_time, x='Gender', y='g_total_time')\n",
        "ax.set_title(\"Gun time distribution by gender\")\n",
        "ax.set_ylabel('Time in minutes')\n",
        "ax.set_xlabel('Gender')\n",
        "sns.despine(offset=10, trim=True)\n",
        "plt.xticks(rotation=90)\n",
        "plt.show()"
      ],
      "execution_count": 84,
      "outputs": [
        {
          "output_type": "display_data",
          "data": {
            "image/png": "[encoded data removed]",
            "text/plain": [
              "<Figure size 432x288 with 1 Axes>"
            ]
          },
          "metadata": {
            "tags": []
          }
        }
      ]
    },
    {
      "cell_type": "code",
      "metadata": {
        "colab": {
          "base_uri": "https://localhost:8080/"
        },
        "id": "_19VQFee4Wcn",
        "outputId": "25be7d6e-6f3e-4352-9414-296366eba687"
      },
      "source": [
        "# calculate mode  for females  (Guntime) \n",
        "df_time[df_time['Gender']=='female']['g_total_time'].value_counts(ascending=False).head(2)\n"
      ],
      "execution_count": 89,
      "outputs": [
        {
          "output_type": "execute_result",
          "data": {
            "text/plain": [
              "61.78    5\n",
              "62.67    5\n",
              "Name: g_total_time, dtype: int64"
            ]
          },
          "metadata": {
            "tags": []
          },
          "execution_count": 89
        }
      ]
    },
    {
      "cell_type": "code",
      "metadata": {
        "id": "D35DozwALTxo",
        "colab": {
          "base_uri": "https://localhost:8080/"
        },
        "outputId": "28ba844a-06a2-4e45-af9e-569e46ca76f3"
      },
      "source": [
        "# calculate Interquartile range  for females (Guntime )\n",
        "round(df_time[df_time['Gender'] =='female']['g_total_time'].quantile(.25),2),round(df_time[df_time['Gender']=='female']['g_total_time'].quantile(.75),2)"
      ],
      "execution_count": 88,
      "outputs": [
        {
          "output_type": "execute_result",
          "data": {
            "text/plain": [
              "(54.92, 67.53)"
            ]
          },
          "metadata": {
            "tags": []
          },
          "execution_count": 88
        }
      ]
    },
    {
      "cell_type": "code",
      "metadata": {
        "colab": {
          "base_uri": "https://localhost:8080/"
        },
        "id": "lZT-L5Gdrf22",
        "outputId": "a7a48bb6-d1c1-4701-e902-472bfa3b4471"
      },
      "source": [
        "# calculate median for females (Guntime )\n",
        "\n",
        "round(df_time[df_time['Gender']=='female']['g_total_time'].quantile(.5),2)\n"
      ],
      "execution_count": 93,
      "outputs": [
        {
          "output_type": "execute_result",
          "data": {
            "text/plain": [
              "61.33"
            ]
          },
          "metadata": {
            "tags": []
          },
          "execution_count": 93
        }
      ]
    },
    {
      "cell_type": "code",
      "metadata": {
        "colab": {
          "base_uri": "https://localhost:8080/"
        },
        "id": "ISHlPpts53fR",
        "outputId": "e8714432-622f-4645-c521-01d964b3a47a"
      },
      "source": [
        "# calculate mode  for males (Guntime)\n",
        "df_time[df_time['Gender']!='female']['g_total_time'].value_counts(ascending=False).head(3)"
      ],
      "execution_count": 91,
      "outputs": [
        {
          "output_type": "execute_result",
          "data": {
            "text/plain": [
              "55.22    5\n",
              "64.93    5\n",
              "60.18    4\n",
              "Name: g_total_time, dtype: int64"
            ]
          },
          "metadata": {
            "tags": []
          },
          "execution_count": 91
        }
      ]
    },
    {
      "cell_type": "code",
      "metadata": {
        "colab": {
          "base_uri": "https://localhost:8080/"
        },
        "id": "j-DrEXwZsEZe",
        "outputId": "396a60fa-7d44-465c-c9ea-c9a498f9435e"
      },
      "source": [
        "# calculate Interquartile range  for males (Guntime )\n",
        "round(df_time[df_time['Gender']!='female']['g_total_time'].quantile(.25),2),round(df_time[df_time['Gender']!='female']['g_total_time'].quantile(.75),2)"
      ],
      "execution_count": 92,
      "outputs": [
        {
          "output_type": "execute_result",
          "data": {
            "text/plain": [
              "(47.0, 61.12)"
            ]
          },
          "metadata": {
            "tags": []
          },
          "execution_count": 92
        }
      ]
    },
    {
      "cell_type": "code",
      "metadata": {
        "id": "ifoHB3wyvnQk"
      },
      "source": [
        "# calculate median  for males (Guntime )\n",
        "\n",
        "round(df_time[df_time['Gender']!='female']['g_total_time'].quantile(.5),2)\n"
      ],
      "execution_count": null,
      "outputs": []
    },
    {
      "cell_type": "code",
      "metadata": {
        "id": "Xk9ZROzmEVvS",
        "colab": {
          "base_uri": "https://localhost:8080/",
          "height": 350
        },
        "outputId": "21c632b0-5e2c-484e-ccda-caaaf691dd4f"
      },
      "source": [
        "# Box plot of female vs. Male racers (Net Time)\n",
        "\n",
        "ax = plt.axes()\n",
        "plot1 = sns.boxplot(data=df_time, x='Gender', y='n_total_time')\n",
        "ax.set_title(\"Net time distribution by gender\")\n",
        "ax.set_ylabel('Time in minutes')\n",
        "ax.set_xlabel('Gender')\n",
        "sns.despine(offset=10, trim=True)\n",
        "plt.xticks(rotation=90)\n",
        "\n",
        "plt.show()"
      ],
      "execution_count": 96,
      "outputs": [
        {
          "output_type": "display_data",
          "data": {
            "image/png": "[encoded data removed]",
            "text/plain": [
              "<Figure size 432x288 with 1 Axes>"
            ]
          },
          "metadata": {
            "tags": []
          }
        }
      ]
    },
    {
      "cell_type": "code",
      "metadata": {
        "id": "NFV3YpgnOqOR",
        "colab": {
          "base_uri": "https://localhost:8080/"
        },
        "outputId": "63bf1701-9fdd-4221-b9fe-616a4bf42e27"
      },
      "source": [
        "\n",
        "# Interquartile Calculations for females (Nettime)\n",
        "round(df_time[df_time['Gender'] =='female']['n_total_time'].quantile(.25),2),round(df_time[df_time['Gender']=='female']['n_total_time'].quantile(.75),2)"
      ],
      "execution_count": 97,
      "outputs": [
        {
          "output_type": "execute_result",
          "data": {
            "text/plain": [
              "(52.22, 63.6)"
            ]
          },
          "metadata": {
            "tags": []
          },
          "execution_count": 97
        }
      ]
    },
    {
      "cell_type": "code",
      "metadata": {
        "colab": {
          "base_uri": "https://localhost:8080/"
        },
        "id": "h045uHVKvRKi",
        "outputId": "207ca9d4-7d6f-42c1-8104-1f53a1bb4477"
      },
      "source": [
        "#Mode calculation for females(Net Time)\n",
        "round(df_time[df_time['Gender']=='female']['n_total_time'].quantile(.5),2)"
      ],
      "execution_count": 100,
      "outputs": [
        {
          "output_type": "execute_result",
          "data": {
            "text/plain": [
              "57.82"
            ]
          },
          "metadata": {
            "tags": []
          },
          "execution_count": 100
        }
      ]
    },
    {
      "cell_type": "code",
      "metadata": {
        "colab": {
          "base_uri": "https://localhost:8080/"
        },
        "id": "oBOpQcOKuwNC",
        "outputId": "347ed963-e416-4fb7-bd56-7133a3027663"
      },
      "source": [
        "#Mode calculation for males(Net Time)\n",
        "round(df_time[df_time['Gender']!='female']['n_total_time'].quantile(.5),2)"
      ],
      "execution_count": 102,
      "outputs": [
        {
          "output_type": "execute_result",
          "data": {
            "text/plain": [
              "51.37"
            ]
          },
          "metadata": {
            "tags": []
          },
          "execution_count": 102
        }
      ]
    },
    {
      "cell_type": "code",
      "metadata": {
        "colab": {
          "base_uri": "https://localhost:8080/"
        },
        "id": "hM6jEfdGxNG6",
        "outputId": "9970357a-e506-4d9f-a55f-e9fd9b98489a"
      },
      "source": [
        "# Interquartile Calculations for males (Nettime)\n",
        "round(df_time[df_time['Gender'] !='female']['n_total_time'].quantile(.25),2),round(df_time[df_time['Gender']!='female']['n_total_time'].quantile(.75),2)"
      ],
      "execution_count": 105,
      "outputs": [
        {
          "output_type": "execute_result",
          "data": {
            "text/plain": [
              "(45.68, 57.82)"
            ]
          },
          "metadata": {
            "tags": []
          },
          "execution_count": 105
        }
      ]
    },
    {
      "cell_type": "code",
      "metadata": {
        "colab": {
          "base_uri": "https://localhost:8080/",
          "height": 143
        },
        "id": "R-PSYadoyIAY",
        "outputId": "9e4a20d2-f3b9-4563-a147-48553b000d86"
      },
      "source": [
        "#Mean and median for  Gun time by Gender\n",
        "round(df_time.groupby('Gender')['g_total_time'].agg([np.mean,np.median]),2)\n"
      ],
      "execution_count": 112,
      "outputs": [
        {
          "output_type": "execute_result",
          "data": {
            "text/html": [
              "<div>\n",
              "<style scoped>\n",
              "    .dataframe tbody tr th:only-of-type {\n",
              "        vertical-align: middle;\n",
              "    }\n",
              "\n",
              "    .dataframe tbody tr th {\n",
              "        vertical-align: top;\n",
              "    }\n",
              "\n",
              "    .dataframe thead th {\n",
              "        text-align: right;\n",
              "    }\n",
              "</style>\n",
              "<table border=\"1\" class=\"dataframe\">\n",
              "  <thead>\n",
              "    <tr style=\"text-align: right;\">\n",
              "      <th></th>\n",
              "      <th>mean</th>\n",
              "      <th>median</th>\n",
              "    </tr>\n",
              "    <tr>\n",
              "      <th>Gender</th>\n",
              "      <th></th>\n",
              "      <th></th>\n",
              "    </tr>\n",
              "  </thead>\n",
              "  <tbody>\n",
              "    <tr>\n",
              "      <th>female</th>\n",
              "      <td>61.70</td>\n",
              "      <td>61.33</td>\n",
              "    </tr>\n",
              "    <tr>\n",
              "      <th>male</th>\n",
              "      <td>54.62</td>\n",
              "      <td>54.30</td>\n",
              "    </tr>\n",
              "  </tbody>\n",
              "</table>\n",
              "</div>"
            ],
            "text/plain": [
              "         mean  median\n",
              "Gender               \n",
              "female  61.70   61.33\n",
              "male    54.62   54.30"
            ]
          },
          "metadata": {
            "tags": []
          },
          "execution_count": 112
        }
      ]
    },
    {
      "cell_type": "code",
      "metadata": {
        "colab": {
          "base_uri": "https://localhost:8080/",
          "height": 143
        },
        "id": "0-VA7wO013Y9",
        "outputId": "5ef32c31-6a11-4681-8399-582e7c634815"
      },
      "source": [
        "#Mean and median for  Net time by Gender\n",
        "round(df_time.groupby('Gender')['n_total_time'].agg([np.mean,np.median]),2)\n"
      ],
      "execution_count": 113,
      "outputs": [
        {
          "output_type": "execute_result",
          "data": {
            "text/html": [
              "<div>\n",
              "<style scoped>\n",
              "    .dataframe tbody tr th:only-of-type {\n",
              "        vertical-align: middle;\n",
              "    }\n",
              "\n",
              "    .dataframe tbody tr th {\n",
              "        vertical-align: top;\n",
              "    }\n",
              "\n",
              "    .dataframe thead th {\n",
              "        text-align: right;\n",
              "    }\n",
              "</style>\n",
              "<table border=\"1\" class=\"dataframe\">\n",
              "  <thead>\n",
              "    <tr style=\"text-align: right;\">\n",
              "      <th></th>\n",
              "      <th>mean</th>\n",
              "      <th>median</th>\n",
              "    </tr>\n",
              "    <tr>\n",
              "      <th>Gender</th>\n",
              "      <th></th>\n",
              "      <th></th>\n",
              "    </tr>\n",
              "  </thead>\n",
              "  <tbody>\n",
              "    <tr>\n",
              "      <th>female</th>\n",
              "      <td>58.45</td>\n",
              "      <td>57.82</td>\n",
              "    </tr>\n",
              "    <tr>\n",
              "      <th>male</th>\n",
              "      <td>52.12</td>\n",
              "      <td>51.37</td>\n",
              "    </tr>\n",
              "  </tbody>\n",
              "</table>\n",
              "</div>"
            ],
            "text/plain": [
              "         mean  median\n",
              "Gender               \n",
              "female  58.45   57.82\n",
              "male    52.12   51.37"
            ]
          },
          "metadata": {
            "tags": []
          },
          "execution_count": 113
        }
      ]
    },
    {
      "cell_type": "markdown",
      "metadata": {
        "id": "e6416lz216Lz"
      },
      "source": [
        "QUESTION 2: Analyze the difference between gun and net\n",
        "time race results."
      ]
    },
    {
      "cell_type": "code",
      "metadata": {
        "colab": {
          "base_uri": "https://localhost:8080/",
          "height": 568
        },
        "id": "3M0d58xhwEmD",
        "outputId": "28f97927-1943-4f5f-d956-0cecacfa712e"
      },
      "source": [
        "# Chart of mean and median for Gun Time\n",
        "plot1= df_time.groupby('Gender')['g_total_time'].agg([np.mean,np.median]).plot(kind='bar')\n",
        "plt.rcParams['figure.figsize'] = (10.75, 7.0)\n",
        "ax = plt.axes()\n",
        "ax.set_title(\"Gun time mean and median distribution by gender\")\n",
        "ax.set_ylabel('Time (minutes)')\n",
        "ax.set_xlabel('Gender')\n",
        "sns.despine(offset=10, trim=True)\n",
        "plt.xticks(rotation=90)\n",
        "font = {'family' : 'normal',\n",
        "        'weight' : 'bold',\n",
        "        'size'   : 12}\n",
        "plt.rc('font', **font)\n",
        "plt.show()"
      ],
      "execution_count": 108,
      "outputs": [
        {
          "output_type": "stream",
          "text": [
            "/usr/local/lib/python3.7/dist-packages/ipykernel_launcher.py:4: MatplotlibDeprecationWarning: Adding an axes using the same arguments as a previous axes currently reuses the earlier instance.  In a future version, a new instance will always be created and returned.  Meanwhile, this warning can be suppressed, and the future behavior ensured, by passing a unique label to each axes instance.\n",
            "  after removing the cwd from sys.path.\n"
          ],
          "name": "stderr"
        },
        {
          "output_type": "display_data",
          "data": {
            "image/png": "[encoded data removed]",
            "text/plain": [
              "<Figure size 774x504 with 1 Axes>"
            ]
          },
          "metadata": {
            "tags": []
          }
        }
      ]
    },
    {
      "cell_type": "code",
      "metadata": {
        "colab": {
          "base_uri": "https://localhost:8080/",
          "height": 143
        },
        "id": "xbSxgCiexv-K",
        "outputId": "84fb155d-b6fa-448f-cadf-69c1646beb90"
      },
      "source": [
        ""
      ],
      "execution_count": 111,
      "outputs": [
        {
          "output_type": "execute_result",
          "data": {
            "text/html": [
              "<div>\n",
              "<style scoped>\n",
              "    .dataframe tbody tr th:only-of-type {\n",
              "        vertical-align: middle;\n",
              "    }\n",
              "\n",
              "    .dataframe tbody tr th {\n",
              "        vertical-align: top;\n",
              "    }\n",
              "\n",
              "    .dataframe thead th {\n",
              "        text-align: right;\n",
              "    }\n",
              "</style>\n",
              "<table border=\"1\" class=\"dataframe\">\n",
              "  <thead>\n",
              "    <tr style=\"text-align: right;\">\n",
              "      <th></th>\n",
              "      <th>mean</th>\n",
              "      <th>median</th>\n",
              "    </tr>\n",
              "    <tr>\n",
              "      <th>Gender</th>\n",
              "      <th></th>\n",
              "      <th></th>\n",
              "    </tr>\n",
              "  </thead>\n",
              "  <tbody>\n",
              "    <tr>\n",
              "      <th>female</th>\n",
              "      <td>58.45</td>\n",
              "      <td>57.82</td>\n",
              "    </tr>\n",
              "    <tr>\n",
              "      <th>male</th>\n",
              "      <td>52.12</td>\n",
              "      <td>51.37</td>\n",
              "    </tr>\n",
              "  </tbody>\n",
              "</table>\n",
              "</div>"
            ],
            "text/plain": [
              "         mean  median\n",
              "Gender               \n",
              "female  58.45   57.82\n",
              "male    52.12   51.37"
            ]
          },
          "metadata": {
            "tags": []
          },
          "execution_count": 111
        }
      ]
    },
    {
      "cell_type": "code",
      "metadata": {
        "colab": {
          "base_uri": "https://localhost:8080/",
          "height": 568
        },
        "id": "wrGhGV75yzWV",
        "outputId": "5fe19336-9936-4dcb-d5ec-865e668c5011"
      },
      "source": [
        "# Chart of mean and median for Net Time\n",
        "plot1= df_time.groupby('Gender')['n_total_time'].agg([np.mean,np.median]).plot(kind='bar')\n",
        "plt.rcParams['figure.figsize'] = (8.75, 7.0)\n",
        "ax = plt.axes()\n",
        "ax.set_title(\"Net time mean and median distribution by gender\")\n",
        "ax.set_ylabel('Time in minutes')\n",
        "ax.set_xlabel('Gender')\n",
        "sns.despine(offset=10, trim=True)\n",
        "plt.xticks(rotation=90)\n",
        "font = {'family' : 'normal',\n",
        "        'weight' : 'bold',\n",
        "        'size'   : 12}\n",
        "plt.rc('font', **font)\n",
        "plt.show()"
      ],
      "execution_count": 110,
      "outputs": [
        {
          "output_type": "stream",
          "text": [
            "/usr/local/lib/python3.7/dist-packages/ipykernel_launcher.py:4: MatplotlibDeprecationWarning: Adding an axes using the same arguments as a previous axes currently reuses the earlier instance.  In a future version, a new instance will always be created and returned.  Meanwhile, this warning can be suppressed, and the future behavior ensured, by passing a unique label to each axes instance.\n",
            "  after removing the cwd from sys.path.\n"
          ],
          "name": "stderr"
        },
        {
          "output_type": "display_data",
          "data": {
            "image/png": "[encoded data removed]",
            "text/plain": [
              "<Figure size 774x504 with 1 Axes>"
            ]
          },
          "metadata": {
            "tags": []
          }
        }
      ]
    },
    {
      "cell_type": "code",
      "metadata": {
        "colab": {
          "base_uri": "https://localhost:8080/",
          "height": 417
        },
        "id": "FRszz7LGy3i9",
        "outputId": "22788ce1-67f2-4cba-f246-63026a2052da"
      },
      "source": [
        "df_fm.head()"
      ],
      "execution_count": 114,
      "outputs": [
        {
          "output_type": "execute_result",
          "data": {
            "text/html": [
              "<div>\n",
              "<style scoped>\n",
              "    .dataframe tbody tr th:only-of-type {\n",
              "        vertical-align: middle;\n",
              "    }\n",
              "\n",
              "    .dataframe tbody tr th {\n",
              "        vertical-align: top;\n",
              "    }\n",
              "\n",
              "    .dataframe thead th {\n",
              "        text-align: right;\n",
              "    }\n",
              "</style>\n",
              "<table border=\"1\" class=\"dataframe\">\n",
              "  <thead>\n",
              "    <tr style=\"text-align: right;\">\n",
              "      <th></th>\n",
              "      <th>Place</th>\n",
              "      <th>Div/Tot</th>\n",
              "      <th>Number</th>\n",
              "      <th>Name</th>\n",
              "      <th>Age</th>\n",
              "      <th>Hometown</th>\n",
              "      <th>Gun Tim</th>\n",
              "      <th>Net Tim</th>\n",
              "      <th>Pace</th>\n",
              "      <th>Division</th>\n",
              "      <th>Gun_Time</th>\n",
              "      <th>Net_Time</th>\n",
              "      <th>Net_Time1</th>\n",
              "      <th>Gun_Time1</th>\n",
              "      <th>Gun_Net_Diff</th>\n",
              "      <th>Div</th>\n",
              "      <th>Total_Racers</th>\n",
              "      <th>Gender</th>\n",
              "    </tr>\n",
              "  </thead>\n",
              "  <tbody>\n",
              "    <tr>\n",
              "      <th>0</th>\n",
              "      <td>1</td>\n",
              "      <td>1/48</td>\n",
              "      <td>9</td>\n",
              "      <td>Joshua Kemei</td>\n",
              "      <td>22.0</td>\n",
              "      <td>Kenya .</td>\n",
              "      <td>28:48</td>\n",
              "      <td>28:47</td>\n",
              "      <td>4.38</td>\n",
              "      <td>20-29</td>\n",
              "      <td>0:28:48</td>\n",
              "      <td>0:28:47</td>\n",
              "      <td>1900-01-01 00:28:47</td>\n",
              "      <td>1900-01-01 00:28:48</td>\n",
              "      <td>0 days 00:00:01</td>\n",
              "      <td>1</td>\n",
              "      <td>48</td>\n",
              "      <td>male</td>\n",
              "    </tr>\n",
              "    <tr>\n",
              "      <th>1</th>\n",
              "      <td>2</td>\n",
              "      <td>2/48</td>\n",
              "      <td>35</td>\n",
              "      <td>George Kirwa Misoi</td>\n",
              "      <td>22.0</td>\n",
              "      <td>Kenya .</td>\n",
              "      <td>29:11</td>\n",
              "      <td>29:10</td>\n",
              "      <td>4.42</td>\n",
              "      <td>20-29</td>\n",
              "      <td>0:29:11</td>\n",
              "      <td>0:29:10</td>\n",
              "      <td>1900-01-01 00:29:10</td>\n",
              "      <td>1900-01-01 00:29:11</td>\n",
              "      <td>0 days 00:00:01</td>\n",
              "      <td>2</td>\n",
              "      <td>48</td>\n",
              "      <td>male</td>\n",
              "    </tr>\n",
              "    <tr>\n",
              "      <th>2</th>\n",
              "      <td>3</td>\n",
              "      <td>3/48</td>\n",
              "      <td>3</td>\n",
              "      <td>Jacob Frey</td>\n",
              "      <td>24.0</td>\n",
              "      <td>Oakton VA</td>\n",
              "      <td>29:38</td>\n",
              "      <td>29:37</td>\n",
              "      <td>4.46</td>\n",
              "      <td>20-29</td>\n",
              "      <td>0:29:38</td>\n",
              "      <td>0:29:37</td>\n",
              "      <td>1900-01-01 00:29:37</td>\n",
              "      <td>1900-01-01 00:29:38</td>\n",
              "      <td>0 days 00:00:01</td>\n",
              "      <td>3</td>\n",
              "      <td>48</td>\n",
              "      <td>male</td>\n",
              "    </tr>\n",
              "    <tr>\n",
              "      <th>3</th>\n",
              "      <td>4</td>\n",
              "      <td>1/96</td>\n",
              "      <td>49</td>\n",
              "      <td>Gurmessa Kumsa</td>\n",
              "      <td>27.0</td>\n",
              "      <td>Oxon Hill MD</td>\n",
              "      <td>29:46</td>\n",
              "      <td>29:46</td>\n",
              "      <td>4.48</td>\n",
              "      <td>20-29</td>\n",
              "      <td>0:29:46</td>\n",
              "      <td>0:29:46</td>\n",
              "      <td>1900-01-01 00:29:46</td>\n",
              "      <td>1900-01-01 00:29:46</td>\n",
              "      <td>0 days 00:00:00</td>\n",
              "      <td>1</td>\n",
              "      <td>96</td>\n",
              "      <td>male</td>\n",
              "    </tr>\n",
              "    <tr>\n",
              "      <th>4</th>\n",
              "      <td>5</td>\n",
              "      <td>4/48</td>\n",
              "      <td>31</td>\n",
              "      <td>Mike Baird</td>\n",
              "      <td>24.0</td>\n",
              "      <td>Ardmore PA</td>\n",
              "      <td>30:31</td>\n",
              "      <td>30:30</td>\n",
              "      <td>4.55</td>\n",
              "      <td>20-29</td>\n",
              "      <td>0:30:31</td>\n",
              "      <td>0:30:30</td>\n",
              "      <td>1900-01-01 00:30:30</td>\n",
              "      <td>1900-01-01 00:30:31</td>\n",
              "      <td>0 days 00:00:01</td>\n",
              "      <td>4</td>\n",
              "      <td>48</td>\n",
              "      <td>male</td>\n",
              "    </tr>\n",
              "  </tbody>\n",
              "</table>\n",
              "</div>"
            ],
            "text/plain": [
              "  Place Div/Tot Number  ... Div  Total_Racers Gender\n",
              "0     1    1/48      9  ...   1            48   male\n",
              "1     2    2/48     35  ...   2            48   male\n",
              "2     3    3/48      3  ...   3            48   male\n",
              "3     4    1/96     49  ...   1            96   male\n",
              "4     5    4/48     31  ...   4            48   male\n",
              "\n",
              "[5 rows x 18 columns]"
            ]
          },
          "metadata": {
            "tags": []
          },
          "execution_count": 114
        }
      ]
    },
    {
      "cell_type": "code",
      "metadata": {
        "colab": {
          "base_uri": "https://localhost:8080/",
          "height": 285
        },
        "id": "Lq6ZcFbx3ffT",
        "outputId": "42617d1a-46e5-46e8-9789-ddc23e9c38ae"
      },
      "source": [
        "#Convert Gun_Net_Diff to seconds \n",
        "\n",
        "df_fm['df_sec']=df_fm.Gun_Net_Diff/ np.timedelta64(1, 's')\n",
        "df_fm.head(3)"
      ],
      "execution_count": 202,
      "outputs": [
        {
          "output_type": "execute_result",
          "data": {
            "text/html": [
              "<div>\n",
              "<style scoped>\n",
              "    .dataframe tbody tr th:only-of-type {\n",
              "        vertical-align: middle;\n",
              "    }\n",
              "\n",
              "    .dataframe tbody tr th {\n",
              "        vertical-align: top;\n",
              "    }\n",
              "\n",
              "    .dataframe thead th {\n",
              "        text-align: right;\n",
              "    }\n",
              "</style>\n",
              "<table border=\"1\" class=\"dataframe\">\n",
              "  <thead>\n",
              "    <tr style=\"text-align: right;\">\n",
              "      <th></th>\n",
              "      <th>Place</th>\n",
              "      <th>Div/Tot</th>\n",
              "      <th>Number</th>\n",
              "      <th>Name</th>\n",
              "      <th>Age</th>\n",
              "      <th>Hometown</th>\n",
              "      <th>Gun Tim</th>\n",
              "      <th>Net Tim</th>\n",
              "      <th>Pace</th>\n",
              "      <th>Division</th>\n",
              "      <th>Gun_Time</th>\n",
              "      <th>Net_Time</th>\n",
              "      <th>Net_Time1</th>\n",
              "      <th>Gun_Time1</th>\n",
              "      <th>Gun_Net_Diff</th>\n",
              "      <th>Div</th>\n",
              "      <th>Total_Racers</th>\n",
              "      <th>Gender</th>\n",
              "      <th>df_sec</th>\n",
              "    </tr>\n",
              "  </thead>\n",
              "  <tbody>\n",
              "    <tr>\n",
              "      <th>0</th>\n",
              "      <td>1</td>\n",
              "      <td>1/48</td>\n",
              "      <td>9</td>\n",
              "      <td>Joshua Kemei</td>\n",
              "      <td>22.0</td>\n",
              "      <td>Kenya .</td>\n",
              "      <td>28:48</td>\n",
              "      <td>28:47</td>\n",
              "      <td>4.38</td>\n",
              "      <td>20-29</td>\n",
              "      <td>0:28:48</td>\n",
              "      <td>0:28:47</td>\n",
              "      <td>1900-01-01 00:28:47</td>\n",
              "      <td>1900-01-01 00:28:48</td>\n",
              "      <td>0 days 00:00:01</td>\n",
              "      <td>1</td>\n",
              "      <td>48</td>\n",
              "      <td>male</td>\n",
              "      <td>1.0</td>\n",
              "    </tr>\n",
              "    <tr>\n",
              "      <th>1</th>\n",
              "      <td>2</td>\n",
              "      <td>2/48</td>\n",
              "      <td>35</td>\n",
              "      <td>George Kirwa Misoi</td>\n",
              "      <td>22.0</td>\n",
              "      <td>Kenya .</td>\n",
              "      <td>29:11</td>\n",
              "      <td>29:10</td>\n",
              "      <td>4.42</td>\n",
              "      <td>20-29</td>\n",
              "      <td>0:29:11</td>\n",
              "      <td>0:29:10</td>\n",
              "      <td>1900-01-01 00:29:10</td>\n",
              "      <td>1900-01-01 00:29:11</td>\n",
              "      <td>0 days 00:00:01</td>\n",
              "      <td>2</td>\n",
              "      <td>48</td>\n",
              "      <td>male</td>\n",
              "      <td>1.0</td>\n",
              "    </tr>\n",
              "    <tr>\n",
              "      <th>2</th>\n",
              "      <td>3</td>\n",
              "      <td>3/48</td>\n",
              "      <td>3</td>\n",
              "      <td>Jacob Frey</td>\n",
              "      <td>24.0</td>\n",
              "      <td>Oakton VA</td>\n",
              "      <td>29:38</td>\n",
              "      <td>29:37</td>\n",
              "      <td>4.46</td>\n",
              "      <td>20-29</td>\n",
              "      <td>0:29:38</td>\n",
              "      <td>0:29:37</td>\n",
              "      <td>1900-01-01 00:29:37</td>\n",
              "      <td>1900-01-01 00:29:38</td>\n",
              "      <td>0 days 00:00:01</td>\n",
              "      <td>3</td>\n",
              "      <td>48</td>\n",
              "      <td>male</td>\n",
              "      <td>1.0</td>\n",
              "    </tr>\n",
              "  </tbody>\n",
              "</table>\n",
              "</div>"
            ],
            "text/plain": [
              "  Place Div/Tot Number                Name  ...  Div Total_Racers Gender df_sec\n",
              "0     1    1/48      9        Joshua Kemei  ...    1           48   male    1.0\n",
              "1     2    2/48     35  George Kirwa Misoi  ...    2           48   male    1.0\n",
              "2     3    3/48      3          Jacob Frey  ...    3           48   male    1.0\n",
              "\n",
              "[3 rows x 19 columns]"
            ]
          },
          "metadata": {
            "tags": []
          },
          "execution_count": 202
        }
      ]
    },
    {
      "cell_type": "code",
      "metadata": {
        "colab": {
          "base_uri": "https://localhost:8080/",
          "height": 729
        },
        "id": "3Cc1sR0s2dhQ",
        "outputId": "e3972065-ab19-4b58-c289-76a6174a6876"
      },
      "source": [
        "#Visual analysis to identify  trends or relationship between gun and net time. \n",
        "plt.figure(figsize=(10, 8), dpi=100, facecolor='w', edgecolor='k')\n",
        "plt.scatter(df_fm['Age'],df_fm['df_sec'], c='b')\n",
        "plt.xlabel('Gun Time And Net time Difference')\n",
        "plt.title(\"Relationship between gun vs net time\");\n",
        "plt.show"
      ],
      "execution_count": 203,
      "outputs": [
        {
          "output_type": "execute_result",
          "data": {
            "text/plain": [
              "<function matplotlib.pyplot.show>"
            ]
          },
          "metadata": {
            "tags": []
          },
          "execution_count": 203
        },
        {
          "output_type": "display_data",
          "data": {
            "image/png": "[encoded data removed]",
            "text/plain": [
              "<Figure size 1000x800 with 1 Axes>"
            ]
          },
          "metadata": {
            "tags": []
          }
        }
      ]
    },
    {
      "cell_type": "code",
      "metadata": {
        "colab": {
          "base_uri": "https://localhost:8080/",
          "height": 560
        },
        "id": "Z_gt9UhR3HWj",
        "outputId": "d686452a-cb57-4be6-c010-3d1bf6c07a84"
      },
      "source": [
        "#Linear regression to Identify trends\n",
        "\n",
        "plt.figure(figsize=(8, 6), dpi=100, facecolor='w', edgecolor='k')\n",
        "plt.scatter(df_time['n_total_time'],df_time['g_total_time'], c='r')\n",
        "plt.xlabel('Net Time (minutes)')\n",
        "plt.title(\" High correlation between the two metrics\");\n",
        "\n",
        "\n"
      ],
      "execution_count": 206,
      "outputs": [
        {
          "output_type": "display_data",
          "data": {
            "image/png": "[encoded data removed]",
            "text/plain": [
              "<Figure size 800x600 with 1 Axes>"
            ]
          },
          "metadata": {
            "tags": []
          }
        }
      ]
    },
    {
      "cell_type": "markdown",
      "metadata": {
        "id": "fjq6stty9hr3"
      },
      "source": [
        "This chart shows a high correlation between Gun and Net time."
      ]
    },
    {
      "cell_type": "markdown",
      "metadata": {
        "id": "r29f3KZA97b4"
      },
      "source": [
        "QUESTION 3: How much time separates Chris Doe from\n",
        "the top 10 percentile of racers of the same\n",
        "division?"
      ]
    },
    {
      "cell_type": "code",
      "metadata": {
        "colab": {
          "base_uri": "https://localhost:8080/",
          "height": 135
        },
        "id": "NtW-1oRu99ef",
        "outputId": "55f79d73-5dbf-4fb5-e893-4778a3f02073"
      },
      "source": [
        "#I dentify Chris Doe\n",
        "df_time[df_time['Name']==\"Chris Doe\"]"
      ],
      "execution_count": 155,
      "outputs": [
        {
          "output_type": "execute_result",
          "data": {
            "text/html": [
              "<div>\n",
              "<style scoped>\n",
              "    .dataframe tbody tr th:only-of-type {\n",
              "        vertical-align: middle;\n",
              "    }\n",
              "\n",
              "    .dataframe tbody tr th {\n",
              "        vertical-align: top;\n",
              "    }\n",
              "\n",
              "    .dataframe thead th {\n",
              "        text-align: right;\n",
              "    }\n",
              "</style>\n",
              "<table border=\"1\" class=\"dataframe\">\n",
              "  <thead>\n",
              "    <tr style=\"text-align: right;\">\n",
              "      <th></th>\n",
              "      <th>Place</th>\n",
              "      <th>Number</th>\n",
              "      <th>Name</th>\n",
              "      <th>Age</th>\n",
              "      <th>Hometown</th>\n",
              "      <th>Pace</th>\n",
              "      <th>Net_Time1</th>\n",
              "      <th>Gun_Time1</th>\n",
              "      <th>Gun_Net_Diff</th>\n",
              "      <th>Division</th>\n",
              "      <th>Gender</th>\n",
              "      <th>g_hour</th>\n",
              "      <th>g_minute</th>\n",
              "      <th>g_second</th>\n",
              "      <th>n_hour</th>\n",
              "      <th>n_minute</th>\n",
              "      <th>n_second</th>\n",
              "      <th>g_total_time</th>\n",
              "      <th>n_total_time</th>\n",
              "    </tr>\n",
              "  </thead>\n",
              "  <tbody>\n",
              "    <tr>\n",
              "      <th>534</th>\n",
              "      <td>535</td>\n",
              "      <td>2869</td>\n",
              "      <td>Chris Doe</td>\n",
              "      <td>44.0</td>\n",
              "      <td>Reson VA</td>\n",
              "      <td>8.0</td>\n",
              "      <td>1900-01-01 00:49:43</td>\n",
              "      <td>1900-01-01 00:53:07</td>\n",
              "      <td>0 days 00:03:24</td>\n",
              "      <td>40-49</td>\n",
              "      <td>male</td>\n",
              "      <td>0</td>\n",
              "      <td>53</td>\n",
              "      <td>7</td>\n",
              "      <td>0</td>\n",
              "      <td>49</td>\n",
              "      <td>43</td>\n",
              "      <td>53.12</td>\n",
              "      <td>49.72</td>\n",
              "    </tr>\n",
              "  </tbody>\n",
              "</table>\n",
              "</div>"
            ],
            "text/plain": [
              "    Place Number       Name  ...  n_second g_total_time  n_total_time\n",
              "534   535   2869  Chris Doe  ...        43        53.12         49.72\n",
              "\n",
              "[1 rows x 19 columns]"
            ]
          },
          "metadata": {
            "tags": []
          },
          "execution_count": 155
        }
      ]
    },
    {
      "cell_type": "code",
      "metadata": {
        "colab": {
          "base_uri": "https://localhost:8080/"
        },
        "id": "yZ26E_8K-oUI",
        "outputId": "004a7d2f-fb95-45db-fca9-8d30d77ec27c"
      },
      "source": [
        "print('df_time[df_time['Name']==\"Chris Doe\"]['n_total_time']-(df_time[(df_time['Division']==\"40-49\") &(df_fm['Gender']==\"male\")]['n_total_time'].quantile(0.1)))"
      ],
      "execution_count": 159,
      "outputs": [
        {
          "output_type": "stream",
          "text": [
            "534    8.03\n",
            "Name: n_total_time, dtype: float64\n"
          ],
          "name": "stdout"
        }
      ]
    },
    {
      "cell_type": "code",
      "metadata": {
        "id": "hKo1fT2N_c-Q"
      },
      "source": [
        "#Chris Doe is ranked 534 out of 1216 and he is seperated by 8.03 minutes from the top 10 percentile"
      ],
      "execution_count": null,
      "outputs": []
    },
    {
      "cell_type": "code",
      "metadata": {
        "id": "nqCs0YmzBgqf"
      },
      "source": [
        ""
      ],
      "execution_count": null,
      "outputs": []
    },
    {
      "cell_type": "markdown",
      "metadata": {
        "id": "xxfKowA0CXmJ"
      },
      "source": [
        "4. Compare the race results of each division."
      ]
    },
    {
      "cell_type": "code",
      "metadata": {
        "colab": {
          "base_uri": "https://localhost:8080/"
        },
        "id": "nR_KxQ5KCYFd",
        "outputId": "6bdf079f-6cae-4115-faff-847a7adc0ec1"
      },
      "source": [
        "df_time['Division'].value_counts().sort_index()"
      ],
      "execution_count": 175,
      "outputs": [
        {
          "output_type": "execute_result",
          "data": {
            "text/plain": [
              "14 or less     39\n",
              "15-19          71\n",
              "20-29         372\n",
              "30-39         766\n",
              "40-49         698\n",
              "50-59         309\n",
              "60-69          93\n",
              "70-79          12\n",
              "over 80         2\n",
              "Name: Division, dtype: int64"
            ]
          },
          "metadata": {
            "tags": []
          },
          "execution_count": 175
        }
      ]
    },
    {
      "cell_type": "code",
      "metadata": {
        "colab": {
          "base_uri": "https://localhost:8080/"
        },
        "id": "03Pd1-waDcZx",
        "outputId": "5cec989f-6b89-49ee-a1d2-fe2756080d14"
      },
      "source": [
        "df_time[df_time['Gender']!='male']['Division'].value_counts().sort_index()\n"
      ],
      "execution_count": 176,
      "outputs": [
        {
          "output_type": "execute_result",
          "data": {
            "text/plain": [
              "14 or less     13\n",
              "15-19          26\n",
              "20-29         228\n",
              "30-39         420\n",
              "40-49         283\n",
              "50-59         104\n",
              "60-69          24\n",
              "70-79           3\n",
              "Name: Division, dtype: int64"
            ]
          },
          "metadata": {
            "tags": []
          },
          "execution_count": 176
        }
      ]
    },
    {
      "cell_type": "code",
      "metadata": {
        "colab": {
          "base_uri": "https://localhost:8080/",
          "height": 235
        },
        "id": "cbajxN4PDjnZ",
        "outputId": "55cacaae-8134-4e77-e504-836f8a25e98d"
      },
      "source": [
        "\n",
        "ax = sns.barplot(x=\"Division\", y=\"Pace\", hue=\"Gender\", data=df)\n",
        "plt.rcParams['figure.figsize'] = (8.75, 7.0);\n",
        "plt.title ('Pace distribution by division')\n",
        "plt.ylabel('Pace (min/mile)');"
      ],
      "execution_count": 177,
      "outputs": [
        {
          "output_type": "error",
          "ename": "NameError",
          "evalue": "ignored",
          "traceback": [
            "\u001b[0;31m---------------------------------------------------------------------------\u001b[0m",
            "\u001b[0;31mNameError\u001b[0m                                 Traceback (most recent call last)",
            "\u001b[0;32m<ipython-input-177-2f80f777fda0>\u001b[0m in \u001b[0;36m<module>\u001b[0;34m()\u001b[0m\n\u001b[1;32m      1\u001b[0m \u001b[0;34m\u001b[0m\u001b[0m\n\u001b[0;32m----> 2\u001b[0;31m \u001b[0max\u001b[0m \u001b[0;34m=\u001b[0m \u001b[0msns\u001b[0m\u001b[0;34m.\u001b[0m\u001b[0mbarplot\u001b[0m\u001b[0;34m(\u001b[0m\u001b[0mx\u001b[0m\u001b[0;34m=\u001b[0m\u001b[0;34m\"Division\"\u001b[0m\u001b[0;34m,\u001b[0m \u001b[0my\u001b[0m\u001b[0;34m=\u001b[0m\u001b[0;34m\"Pace\"\u001b[0m\u001b[0;34m,\u001b[0m \u001b[0mhue\u001b[0m\u001b[0;34m=\u001b[0m\u001b[0;34m\"Gender\"\u001b[0m\u001b[0;34m,\u001b[0m \u001b[0mdata\u001b[0m\u001b[0;34m=\u001b[0m\u001b[0mdf\u001b[0m\u001b[0;34m)\u001b[0m\u001b[0;34m\u001b[0m\u001b[0;34m\u001b[0m\u001b[0m\n\u001b[0m\u001b[1;32m      3\u001b[0m \u001b[0mplt\u001b[0m\u001b[0;34m.\u001b[0m\u001b[0mrcParams\u001b[0m\u001b[0;34m[\u001b[0m\u001b[0;34m'figure.figsize'\u001b[0m\u001b[0;34m]\u001b[0m \u001b[0;34m=\u001b[0m \u001b[0;34m(\u001b[0m\u001b[0;36m8.75\u001b[0m\u001b[0;34m,\u001b[0m \u001b[0;36m7.0\u001b[0m\u001b[0;34m)\u001b[0m\u001b[0;34m;\u001b[0m\u001b[0;34m\u001b[0m\u001b[0;34m\u001b[0m\u001b[0m\n\u001b[1;32m      4\u001b[0m \u001b[0mplt\u001b[0m\u001b[0;34m.\u001b[0m\u001b[0mtitle\u001b[0m \u001b[0;34m(\u001b[0m\u001b[0;34m'Pace distribution by division'\u001b[0m\u001b[0;34m)\u001b[0m\u001b[0;34m\u001b[0m\u001b[0;34m\u001b[0m\u001b[0m\n\u001b[1;32m      5\u001b[0m \u001b[0mplt\u001b[0m\u001b[0;34m.\u001b[0m\u001b[0mylabel\u001b[0m\u001b[0;34m(\u001b[0m\u001b[0;34m'Pace (min/mile)'\u001b[0m\u001b[0;34m)\u001b[0m\u001b[0;34m;\u001b[0m\u001b[0;34m\u001b[0m\u001b[0;34m\u001b[0m\u001b[0m\n",
            "\u001b[0;31mNameError\u001b[0m: name 'df' is not defined"
          ]
        }
      ]
    },
    {
      "cell_type": "code",
      "metadata": {
        "colab": {
          "base_uri": "https://localhost:8080/",
          "height": 663
        },
        "id": "n5eB0Cj0EUWs",
        "outputId": "f4bd0477-a7f5-4037-886d-56fc09e21e56"
      },
      "source": [
        "\n",
        "ax = sns.barplot(x=\"Division\", y=\"Pace\", hue=\"Gender\", data=df_time)\n",
        "plt.rcParams['figure.figsize'] = (8.75, 7.0);\n",
        "plt.title ('Pace distribution by division')\n",
        "plt.ylabel('Pace (min/mile)');\n",
        "plt.show"
      ],
      "execution_count": 183,
      "outputs": [
        {
          "output_type": "error",
          "ename": "TypeError",
          "evalue": "ignored",
          "traceback": [
            "\u001b[0;31m---------------------------------------------------------------------------\u001b[0m",
            "\u001b[0;31mTypeError\u001b[0m                                 Traceback (most recent call last)",
            "\u001b[0;32m<ipython-input-183-2e60d148ab49>\u001b[0m in \u001b[0;36m<module>\u001b[0;34m()\u001b[0m\n\u001b[1;32m      3\u001b[0m \u001b[0mplt\u001b[0m\u001b[0;34m.\u001b[0m\u001b[0mrcParams\u001b[0m\u001b[0;34m[\u001b[0m\u001b[0;34m'figure.figsize'\u001b[0m\u001b[0;34m]\u001b[0m \u001b[0;34m=\u001b[0m \u001b[0;34m(\u001b[0m\u001b[0;36m8.75\u001b[0m\u001b[0;34m,\u001b[0m \u001b[0;36m7.0\u001b[0m\u001b[0;34m)\u001b[0m\u001b[0;34m;\u001b[0m\u001b[0;34m\u001b[0m\u001b[0;34m\u001b[0m\u001b[0m\n\u001b[1;32m      4\u001b[0m \u001b[0mplt\u001b[0m\u001b[0;34m.\u001b[0m\u001b[0mtitle\u001b[0m \u001b[0;34m(\u001b[0m\u001b[0;34m'Pace distribution by division'\u001b[0m\u001b[0;34m)\u001b[0m\u001b[0;34m\u001b[0m\u001b[0;34m\u001b[0m\u001b[0m\n\u001b[0;32m----> 5\u001b[0;31m \u001b[0mplt\u001b[0m\u001b[0;34m.\u001b[0m\u001b[0mylabel\u001b[0m\u001b[0;34m(\u001b[0m\u001b[0;34m'Pace (min/mile)'\u001b[0m\u001b[0;34m)\u001b[0m\u001b[0;34m;\u001b[0m\u001b[0;34m\u001b[0m\u001b[0;34m\u001b[0m\u001b[0m\n\u001b[0m\u001b[1;32m      6\u001b[0m \u001b[0mplt\u001b[0m\u001b[0;34m.\u001b[0m\u001b[0mshow\u001b[0m\u001b[0;34m\u001b[0m\u001b[0;34m\u001b[0m\u001b[0m\n",
            "\u001b[0;31mTypeError\u001b[0m: 'str' object is not callable"
          ]
        },
        {
          "output_type": "display_data",
          "data": {
            "image/png": "[encoded data removed]",
            "text/plain": [
              "<Figure size 630x504 with 1 Axes>"
            ]
          },
          "metadata": {
            "tags": []
          }
        }
      ]
    },
    {
      "cell_type": "code",
      "metadata": {
        "colab": {
          "base_uri": "https://localhost:8080/",
          "height": 462
        },
        "id": "UDCUYGNhDnDJ",
        "outputId": "8d0646d2-125c-4712-9b48-1ea5f5d7132b"
      },
      "source": [
        "ax = sns.barplot(x=\"Division\", y=\"n_total_time\", hue=\"Gender\", data=df_time,palette=\"bright\")\n",
        "plt.rcParams['figure.figsize'] = (8.75, 7.0);\n",
        "plt.title ('Net time distribution by division');"
      ],
      "execution_count": 184,
      "outputs": [
        {
          "output_type": "display_data",
          "data": {
            "image/png": "[encoded data removed]",
            "text/plain": [
              "<Figure size 630x504 with 1 Axes>"
            ]
          },
          "metadata": {
            "tags": []
          }
        }
      ]
    },
    {
      "cell_type": "code",
      "metadata": {
        "colab": {
          "base_uri": "https://localhost:8080/",
          "height": 479
        },
        "id": "e3gju1ggF0-A",
        "outputId": "5296bf31-6f84-4a18-ffd2-e500801dc15a"
      },
      "source": [
        "ax = sns.barplot(x=\"Division\", y=\"g_total_time\", hue=\"Gender\", data=df_time, estimator=np.min)\n",
        "plt.title ('Best division by Gun time')\n"
      ],
      "execution_count": 186,
      "outputs": [
        {
          "output_type": "execute_result",
          "data": {
            "text/plain": [
              "Text(0.5, 1.0, 'Best division by Gun time')"
            ]
          },
          "metadata": {
            "tags": []
          },
          "execution_count": 186
        },
        {
          "output_type": "display_data",
          "data": {
            "image/png": "[encoded data removed]",
            "text/plain": [
              "<Figure size 630x504 with 1 Axes>"
            ]
          },
          "metadata": {
            "tags": []
          }
        }
      ]
    },
    {
      "cell_type": "code",
      "metadata": {
        "colab": {
          "base_uri": "https://localhost:8080/",
          "height": 479
        },
        "id": "qkM4F7ALGKeK",
        "outputId": "cc8a0541-6a65-442a-a343-f6549dda66c2"
      },
      "source": [
        "\n",
        "ax = sns.barplot(x=\"Division\", y=\"n_total_time\", hue=\"Gender\", data=df_time, estimator=np.min,palette=\"Set1\")\n",
        "plt.title ('Best division distribution by Net Time')\n",
        "\n"
      ],
      "execution_count": 190,
      "outputs": [
        {
          "output_type": "execute_result",
          "data": {
            "text/plain": [
              "Text(0.5, 1.0, 'Best division distribution by Net Time')"
            ]
          },
          "metadata": {
            "tags": []
          },
          "execution_count": 190
        },
        {
          "output_type": "display_data",
          "data": {
            "image/png": "[encoded data removed]",
            "text/plain": [
              "<Figure size 630x504 with 1 Axes>"
            ]
          },
          "metadata": {
            "tags": []
          }
        }
      ]
    },
    {
      "cell_type": "code",
      "metadata": {
        "colab": {
          "base_uri": "https://localhost:8080/",
          "height": 479
        },
        "id": "05gBdddOGobW",
        "outputId": "8fa56171-f6a7-4471-ae0b-e07de0c54845"
      },
      "source": [
        "ax = sns.countplot(x=\"Division\", data=df_time,hue='Gender',palette=\"nipy_spectral_r\",\n",
        "order = df_time['Division'].value_counts().index)\n",
        "plt.title ('Participants distribution by division')\n"
      ],
      "execution_count": 194,
      "outputs": [
        {
          "output_type": "execute_result",
          "data": {
            "text/plain": [
              "Text(0.5, 1.0, 'Participants distribution by division')"
            ]
          },
          "metadata": {
            "tags": []
          },
          "execution_count": 194
        },
        {
          "output_type": "display_data",
          "data": {
            "image/png": "[encoded data removed]",
            "text/plain": [
              "<Figure size 630x504 with 1 Axes>"
            ]
          },
          "metadata": {
            "tags": []
          }
        }
      ]
    },
    {
      "cell_type": "code",
      "metadata": {
        "id": "_ooGhnReG_gq"
      },
      "source": [
        ""
      ],
      "execution_count": null,
      "outputs": []
    }
  ]
}